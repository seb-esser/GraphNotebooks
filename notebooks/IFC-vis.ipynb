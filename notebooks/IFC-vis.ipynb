{
 "cells": [
  {
   "cell_type": "markdown",
   "metadata": {},
   "source": [
    "# IFC Visualization in Plotly\n",
    "\n"
   ]
  },
  {
   "cell_type": "markdown",
   "metadata": {},
   "source": [
    "## Installation Check\n",
    "\n",
    "Make sure to have plotly and ifcopenshell installed properly. "
   ]
  },
  {
   "cell_type": "code",
   "execution_count": null,
   "metadata": {},
   "outputs": [],
   "source": [
    "import ifcopenshell\n",
    "import ifcopenshell.geom\n",
    "\n",
    "# Check if OCC is available\n",
    "try:\n",
    "    settings = ifcopenshell.geom.settings()\n",
    "    print(\"OpenCascade is available.\")\n",
    "except Exception as e:\n",
    "    print(\"OpenCascade is not available:\", str(e))"
   ]
  },
  {
   "cell_type": "markdown",
   "metadata": {},
   "source": [
    "## Visualization"
   ]
  },
  {
   "cell_type": "code",
   "execution_count": null,
   "metadata": {},
   "outputs": [],
   "source": [
    "import ifcopenshell\n",
    "import ifcopenshell.geom\n",
    "import plotly.graph_objects as go\n",
    "import numpy as np\n",
    "\n",
    "# Load the IFC file\n",
    "ifc_file = ifcopenshell.open(\"data\\Duplex_A_20110907.ifc\")\n",
    "\n",
    "# Set up the geometry settings\n",
    "settings = ifcopenshell.geom.settings()\n",
    "settings.USE_PYTHON_APPS = True\n",
    "\n",
    "# Extract all walls from the IFC model\n",
    "walls = ifc_file.by_type(\"IfcWindow\")\n",
    "\n",
    "# Lists to hold the wall vertices\n",
    "x, y, z = [], [], []\n",
    "i, j, k = [], [], []  # Triangle indices for mesh\n",
    "\n",
    "# Extract geometry for each wall\n",
    "for wall in walls:\n",
    "    # Create a shape representation using OpenCascade\n",
    "    shape = ifcopenshell.geom.create_shape(settings, wall)\n",
    "    \n",
    "    faces = shape.geometry.faces  # Indices of vertices per triangle face\n",
    "    verts = shape.geometry.verts  # Flattened list of vertex coordinates\n",
    "\n",
    "    # Reshape verts to separate x, y, z coordinates\n",
    "    num_vertices = len(verts) // 3\n",
    "    verts = np.array(verts).reshape((num_vertices, 3))\n",
    "    \n",
    "    # Append vertices to the lists\n",
    "    x.extend(verts[:, 0])\n",
    "    y.extend(verts[:, 1])\n",
    "    z.extend(verts[:, 2])\n",
    "    \n",
    "    # Append face indices for triangles\n",
    "    for idx in range(0, len(faces), 3):\n",
    "        i.append(faces[idx])\n",
    "        j.append(faces[idx + 1])\n",
    "        k.append(faces[idx + 2])\n",
    "\n",
    "# Create a 3D mesh plot\n",
    "mesh = go.Mesh3d(\n",
    "    x=x,\n",
    "    y=y,\n",
    "    z=z,\n",
    "    i=i,\n",
    "    j=j,\n",
    "    k=k,\n",
    "    opacity=0.5,\n",
    "    color='blue'\n",
    ")\n",
    "\n",
    "# Create the figure and add the mesh\n",
    "fig = go.Figure(data=[mesh])\n",
    "\n",
    "# Set the layout for the plot\n",
    "fig.update_layout(\n",
    "    scene=dict(\n",
    "        xaxis_title='X',\n",
    "        yaxis_title='Y',\n",
    "        zaxis_title='Z'\n",
    "    ),\n",
    "    title='Wall Geometries from IFC Model',\n",
    ")\n",
    "\n",
    "# Show the plot\n",
    "fig.show()"
   ]
  },
  {
   "cell_type": "code",
   "execution_count": null,
   "metadata": {},
   "outputs": [],
   "source": []
  }
 ],
 "metadata": {
  "kernelspec": {
   "display_name": "venv",
   "language": "python",
   "name": "python3"
  },
  "language_info": {
   "codemirror_mode": {
    "name": "ipython",
    "version": 3
   },
   "file_extension": ".py",
   "mimetype": "text/x-python",
   "name": "python",
   "nbconvert_exporter": "python",
   "pygments_lexer": "ipython3",
   "version": "3.12.7"
  }
 },
 "nbformat": 4,
 "nbformat_minor": 2
}
