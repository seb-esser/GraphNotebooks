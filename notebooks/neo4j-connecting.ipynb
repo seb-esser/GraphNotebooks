{
 "cells": [
  {
   "cell_type": "markdown",
   "metadata": {},
   "source": [
    "# Neo4j Graph Data Science\n",
    "\n",
    "## Installation and Setup\n",
    "\n",
    "\n",
    "Create new virtual environment \n",
    "`python -m venv C:\\dev\\GraphDataScience-Samples\\venv`\n",
    "\n",
    "Install packages: \n",
    "\n",
    "`pip install ipykernel`\n",
    "\n",
    "`pip install py2neo`\n",
    "\n",
    "## Neo4j Setup\n",
    "\n",
    "You can either run a local installation of Neo4j or connect to Neo4j Aura. The latter option offers one database instance for free. \n",
    "\n",
    "Create your instance [here](https://console.neo4j.io) . \n"
   ]
  },
  {
   "cell_type": "code",
   "execution_count": 54,
   "metadata": {},
   "outputs": [
    {
     "ename": "KeyError",
     "evalue": "'USER'",
     "output_type": "error",
     "traceback": [
      "\u001b[1;31m---------------------------------------------------------------------------\u001b[0m",
      "\u001b[1;31mKeyError\u001b[0m                                  Traceback (most recent call last)",
      "Cell \u001b[1;32mIn[54], line 7\u001b[0m\n\u001b[0;32m      4\u001b[0m \u001b[38;5;28;01mfrom\u001b[39;00m \u001b[38;5;21;01mhelperfunctions\u001b[39;00m\u001b[38;5;21;01m.\u001b[39;00m\u001b[38;5;21;01mCredentialLoader\u001b[39;00m \u001b[38;5;28;01mimport\u001b[39;00m load_credentials\n\u001b[0;32m      6\u001b[0m credentials \u001b[38;5;241m=\u001b[39m load_credentials(\u001b[38;5;124m\"\u001b[39m\u001b[38;5;124mNeo4j-aacfd399-Created-2024-10-18.txt\u001b[39m\u001b[38;5;124m\"\u001b[39m)\n\u001b[1;32m----> 7\u001b[0m graph \u001b[38;5;241m=\u001b[39m Graph(credentials[\u001b[38;5;124m\"\u001b[39m\u001b[38;5;124mURI\u001b[39m\u001b[38;5;124m\"\u001b[39m], auth\u001b[38;5;241m=\u001b[39m(\u001b[43mcredentials\u001b[49m\u001b[43m[\u001b[49m\u001b[38;5;124;43m\"\u001b[39;49m\u001b[38;5;124;43mUSER\u001b[39;49m\u001b[38;5;124;43m\"\u001b[39;49m\u001b[43m]\u001b[49m, credentials[\u001b[38;5;124m\"\u001b[39m\u001b[38;5;124mPASSWORD\u001b[39m\u001b[38;5;124m\"\u001b[39m]))\n\u001b[0;32m      9\u001b[0m \u001b[38;5;66;03m# create nodes\u001b[39;00m\n\u001b[0;32m     10\u001b[0m a \u001b[38;5;241m=\u001b[39m Node(\u001b[38;5;124m\"\u001b[39m\u001b[38;5;124mPerson\u001b[39m\u001b[38;5;124m\"\u001b[39m, Name \u001b[38;5;241m=\u001b[39m \u001b[38;5;124m\"\u001b[39m\u001b[38;5;124mSebastian\u001b[39m\u001b[38;5;124m\"\u001b[39m, Room \u001b[38;5;241m=\u001b[39m \u001b[38;5;241m3157\u001b[39m )\n",
      "\u001b[1;31mKeyError\u001b[0m: 'USER'"
     ]
    }
   ],
   "source": [
    "## Connecting to Neo4j\n",
    "\n",
    "from py2neo import Graph,Node,Relationship\n",
    "from helperfunctions.CredentialLoader import load_credentials\n",
    "\n",
    "credentials = load_credentials(\"Neo4j-aacfd399-Created-2024-10-18.txt\")\n",
    "graph = Graph(credentials[\"URI\"], auth=(credentials[\"USERNAME\"], credentials[\"PASSWORD\"]))\n",
    "\n",
    "# create nodes\n",
    "a = Node(\"Person\", Name = \"Sebastian\", Room = 3157 )\n",
    "graph.create(a)\n",
    "b = Node(\"Person\", Name=\"Martin\", Room = 3240)\n",
    "graph.create(b)\n",
    "c = Node(\"Person\", Name=\"Luca\", Room = 3240)\n",
    "graph.create(c)\n",
    "d = Node(\"Person\", Name=\"Fabian\", Room = 3161)\n",
    "graph.create(d)\n",
    "\n",
    "cms = Node(\"Chair\", fullName = \"Chair of Computational Modeling and Simulation\")\n",
    "\n",
    "# create relationships\n",
    "WORKS = Relationship.type(\"WORKS_AT\")\n",
    "\n",
    "a_cms = WORKS(a, cms)\n",
    "graph.create(a_cms)\n",
    "b_cms = WORKS(b, cms)\n",
    "graph.create(b_cms)\n",
    "c_cms = WORKS(c, cms)\n",
    "graph.create(c_cms)\n",
    "d_cms = WORKS(d, cms)\n",
    "graph.create(d_cms)\n",
    "\n",
    "\n",
    "# staff_graph = a_cms | b_cms | c_cms|d_cms\n",
    "# graph.create(staff_graph)\n"
   ]
  },
  {
   "cell_type": "code",
   "execution_count": null,
   "metadata": {},
   "outputs": [],
   "source": []
  },
  {
   "cell_type": "code",
   "execution_count": null,
   "metadata": {},
   "outputs": [],
   "source": [
    "## Run CYPHER query\n",
    "\n",
    "cy = \"MATCH (n:Person) RETURN n.Name as Name, n.Room as Room\"\n",
    "graph.run(cy).to_data_frame()\n"
   ]
  }
 ],
 "metadata": {
  "kernelspec": {
   "display_name": "venv",
   "language": "python",
   "name": "python3"
  },
  "language_info": {
   "codemirror_mode": {
    "name": "ipython",
    "version": 3
   },
   "file_extension": ".py",
   "mimetype": "text/x-python",
   "name": "python",
   "nbconvert_exporter": "python",
   "pygments_lexer": "ipython3",
   "version": "3.12.7"
  }
 },
 "nbformat": 4,
 "nbformat_minor": 2
}
